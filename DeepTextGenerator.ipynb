{
 "cells": [
  {
   "cell_type": "code",
   "execution_count": 0,
   "metadata": {
    "colab": {
     "base_uri": "https://localhost:8080/",
     "height": 34
    },
    "colab_type": "code",
    "id": "ytZjxAraoEx-",
    "outputId": "4eb7dd8b-f486-47be-df78-4e458f174b0e"
   },
   "outputs": [
    {
     "name": "stderr",
     "output_type": "stream",
     "text": [
      "Using TensorFlow backend.\n"
     ]
    }
   ],
   "source": [
    "# importing required libraries\n",
    "import pandas as pd\n",
    "import numpy as np\n",
    "import matplotlib.pyplot as plt\n",
    "import seaborn as sns\n",
    "import re\n",
    "import nltk\n",
    "from nltk.corpus import stopwords\n",
    "from nltk.stem import PorterStemmer\n",
    "from nltk.stem.wordnet import WordNetLemmatizer\n",
    "from keras.preprocessing.text import one_hot\n",
    "import warnings\n",
    "warnings.filterwarnings(\"ignore\")\n",
    "from keras.layers import Input, Embedding, LSTM, Dropout, BatchNormalization, Dense, concatenate, Flatten, Conv1D, MaxPool1D, LeakyReLU, ELU, SpatialDropout1D, MaxPooling1D, GlobalAveragePooling1D, GlobalMaxPooling1D\n",
    "from keras.preprocessing.text import Tokenizer, one_hot\n",
    "from keras.preprocessing.sequence import pad_sequences\n",
    "from keras.models import Model, load_model\n",
    "from keras import regularizers\n",
    "from sklearn.model_selection import train_test_split\n",
    "from keras.optimizers import *\n",
    "from keras.callbacks import ModelCheckpoint, EarlyStopping, TensorBoard, ReduceLROnPlateau\n",
    "from sklearn.feature_extraction.text import TfidfVectorizer, CountVectorizer\n",
    "from sklearn.metrics import roc_auc_score\n",
    "import tensorflow as tf\n",
    "from tqdm import tqdm\n",
    "from sklearn.preprocessing import LabelEncoder\n",
    "import seaborn as sns\n",
    "import pickle\n",
    "from keras.preprocessing.sequence import pad_sequences\n",
    "from keras.models import Sequential\n",
    "from sklearn.model_selection import train_test_split\n",
    "from keras.layers import Flatten\n",
    "from keras.layers.embeddings import Embedding\n",
    "from keras.models import Model\n",
    "import io\n",
    "%matplotlib inline"
   ]
  },
  {
   "cell_type": "code",
   "execution_count": 0,
   "metadata": {
    "colab": {},
    "colab_type": "code",
    "collapsed": true,
    "id": "0499HuZJyBM-"
   },
   "outputs": [],
   "source": [
    "from keras.layers import Dropout"
   ]
  },
  {
   "cell_type": "code",
   "execution_count": 0,
   "metadata": {
    "colab": {
     "base_uri": "https://localhost:8080/",
     "height": 34
    },
    "colab_type": "code",
    "id": "7FlhSTrJzfXL",
    "outputId": "2b8e1ad1-c6b3-4918-9dd7-1eee73bf616b"
   },
   "outputs": [
    {
     "name": "stdout",
     "output_type": "stream",
     "text": [
      "Drive already mounted at /content/drive; to attempt to forcibly remount, call drive.mount(\"/content/drive\", force_remount=True).\n"
     ]
    }
   ],
   "source": [
    "from google.colab import drive\n",
    "drive.mount('/content/drive')"
   ]
  },
  {
   "cell_type": "code",
   "execution_count": 0,
   "metadata": {
    "colab": {},
    "colab_type": "code",
    "collapsed": true,
    "id": "LIGw9WpZV9NW"
   },
   "outputs": [],
   "source": [
    "#Reading the data\n",
    "data = pd.read_fwf('sentences.csv',header=None)"
   ]
  },
  {
   "cell_type": "code",
   "execution_count": 0,
   "metadata": {
    "colab": {},
    "colab_type": "code",
    "collapsed": true,
    "id": "Dsy8Sl58V88u"
   },
   "outputs": [],
   "source": [
    "#Considering only the english sentence\n",
    "def engSentence(val):\n",
    "    if val.split(\"\\t\")[1]==\"eng\":\n",
    "        return val.split(\"\\t\")[2]\n",
    "    else:\n",
    "        return \"nothing\""
   ]
  },
  {
   "cell_type": "code",
   "execution_count": 0,
   "metadata": {
    "colab": {},
    "colab_type": "code",
    "collapsed": true,
    "id": "yD-ZvJevWCHe"
   },
   "outputs": [],
   "source": [
    "data['Eng'] = data[0].apply(engSentence)"
   ]
  },
  {
   "cell_type": "code",
   "execution_count": 0,
   "metadata": {
    "colab": {},
    "colab_type": "code",
    "collapsed": true,
    "id": "fCNh-0QcWCEq"
   },
   "outputs": [],
   "source": [
    "data.drop([0,1],axis=1,inplace=True)"
   ]
  },
  {
   "cell_type": "code",
   "execution_count": 0,
   "metadata": {
    "colab": {},
    "colab_type": "code",
    "collapsed": true,
    "id": "CT9jWwV3WCBu"
   },
   "outputs": [],
   "source": [
    "data = data[data['Eng']!=\"nothing\"]"
   ]
  },
  {
   "cell_type": "code",
   "execution_count": 0,
   "metadata": {
    "colab": {},
    "colab_type": "code",
    "collapsed": true,
    "id": "dXAe6oeEWB-_"
   },
   "outputs": [],
   "source": [
    "\n",
    "'''\n",
    "#creating a function to replace informal to formal\n",
    "#like 'i'm' to 'i am' then 'gonna' to 'going to ' etc \n",
    "#Using regex to do it\n",
    "'''\n",
    "def replaceString(value):\n",
    "    #value = value.replace('youre','you are')\n",
    "    b = value\n",
    "    #value = value.replace('im','i am')\n",
    "    b = re.sub(r\"\\bi'm\\b\",'i am',b)\n",
    "    #value = value.replace('youd','you would')\n",
    "    b = re.sub(r\"\\byou'd\\b\",'you would',b)\n",
    "    #value = value.replace('gonna','going to')\n",
    "    b = re.sub(r\"\\bgonna\\b\",'going to',b)\n",
    "    #value = value.replace('wanna','want to')\n",
    "    b = re.sub(r\"\\bwanna\\b\",'want to',b)\n",
    "    #value = value.replace('ive','i have')\n",
    "    b = re.sub(r\"\\bi've\\b\",'i have',b)\n",
    "    #value = value.replace('doesnt','does not')\n",
    "    b = re.sub(r\"\\bdoesn't\\b\",'does not',b)\n",
    "    #value = value.replace('workin','working')\n",
    "    b = re.sub(r\"\\bworkin\\b\",'working',b)\n",
    "    #value = value.replace('cant','can not')\n",
    "    b = re.sub(r\"\\bcan't\\b\",'can not',b)\n",
    "    #value = value.replace('thats','that is')\n",
    "    b = re.sub(r\"\\bthat's\\b\",'that is',b)\n",
    "    #value = value.replace('id','i would')\n",
    "    b = re.sub(r\"\\bi'd\\b\",'i would',b)\n",
    "    #value = value.replace('its','it is')\n",
    "    b = re.sub(r\"\\bit's\\b\",'it is',b)\n",
    "    #value = value.replace('whats','what is')\n",
    "    b = re.sub(r\"\\bwhat's\\b\",'what is',b)\n",
    "    #value = value.replace('dont','do not')\n",
    "    b = re.sub(r\"\\bdon't\\b\",'do not',b)\n",
    "    #value = value.replace('ill','i will')\n",
    "    b = re.sub(r\"\\bi'll\\b\",'i will',b)\n",
    "    b = re.sub(r\"\\bhe's\\b\",'he is',b)\n",
    "    b = re.sub(r\"\\bwho's\\b\",'who is',b)\n",
    "    b = re.sub(r\"\\byou're\\b\",'you are',b)\n",
    "    b = re.sub(r\"\\bisn't\\b\",'is not',b) \n",
    "    b = re.sub(r\"\\bdidn't\\b\",'did not',b) \n",
    "    b = re.sub(r\"\\bwon't\\b\",'will not',b) \n",
    "    b = re.sub(r\"\\bthey're\\b\",'they are',b)\n",
    "    b = re.sub(r\"\\bwasn't\\b\",'was not',b)\n",
    "    b = re.sub(r\"\\bcouldn't\\b\",'could not',b)\n",
    "    b = re.sub(r\"\\bshould've\\b\",'should have',b)\n",
    "    b = re.sub(r\"\\byou've\\b\",'you have',b)\n",
    "    b = re.sub(r\"\\bwouldn't\\b\",'would not',b)\n",
    "    b = re.sub(r\"\\baren't\\b\",'are not',b)\n",
    "    b = re.sub(r\"\\bhe'd\\b\",'he would',b)\n",
    "    b = re.sub(r\"\\bhaven't\\b\",'have not',b)\n",
    "    b = re.sub(r\"\\bwouldn't\\b\",'would not',b)\n",
    "    b = re.sub(r\"\\bwe'll\\b\",'we will',b)\n",
    "    b = re.sub(r\"\\bweren't\\b\",'were not',b)\n",
    "    b = re.sub(r\"\\bwe'd\\b\",'we would',b)\n",
    "    b = re.sub(r\"\\bshe'd\\b\",'she would',b)\n",
    "    b = re.sub(r\"\\bhe'd\\b\",'he would',b)\n",
    "    b = re.sub(r\"\\bthere's\\b\",'there is',b)\n",
    "    return b"
   ]
  },
  {
   "cell_type": "code",
   "execution_count": 0,
   "metadata": {
    "colab": {},
    "colab_type": "code",
    "collapsed": true,
    "id": "N0YUL04DWJW0"
   },
   "outputs": [],
   "source": [
    "#lowercase all the sentence\n",
    "def lower(w):\n",
    "    w = w.lower().strip()\n",
    "    return w"
   ]
  },
  {
   "cell_type": "code",
   "execution_count": 0,
   "metadata": {
    "colab": {},
    "colab_type": "code",
    "collapsed": true,
    "id": "WvJnCMMBWJR_"
   },
   "outputs": [],
   "source": [
    "'''\n",
    "#Preprocessing the sentence\n",
    "#Here for '?' ,'!' we are adding space to that '?'=' ?'\n",
    "'''\n",
    "def preprocess_sentence(w):\n",
    "    w = re.sub(r\"([?.!,¿])\", r\" \\1 \", w)\n",
    "    w = re.sub(r'[\" \"]+', \" \", w)\n",
    "    w = re.sub(r\"[^a-zA-Z?.!,¿]+\", \" \", w)\n",
    "    w = w.rstrip().strip()\n",
    "    return w"
   ]
  },
  {
   "cell_type": "code",
   "execution_count": 0,
   "metadata": {
    "colab": {},
    "colab_type": "code",
    "collapsed": true,
    "id": "liML9I0aWJOq"
   },
   "outputs": [],
   "source": [
    "data['output1'] = data['Eng'].apply(lower)"
   ]
  },
  {
   "cell_type": "code",
   "execution_count": 0,
   "metadata": {
    "colab": {},
    "colab_type": "code",
    "collapsed": true,
    "id": "Kpfe-6FlWJMB"
   },
   "outputs": [],
   "source": [
    "data['output1'] = data['output1'].apply(replaceString)"
   ]
  },
  {
   "cell_type": "code",
   "execution_count": 0,
   "metadata": {
    "colab": {},
    "colab_type": "code",
    "collapsed": true,
    "id": "rzriQKfoWJI0"
   },
   "outputs": [],
   "source": [
    "#Removing the sentence which contains numbers\n",
    "data = data[~data.output1.str.contains(r'[0-9]')]"
   ]
  },
  {
   "cell_type": "code",
   "execution_count": 0,
   "metadata": {
    "colab": {},
    "colab_type": "code",
    "collapsed": true,
    "id": "wpVW4IdCWJEY"
   },
   "outputs": [],
   "source": [
    "data['output2']  = data['output1'].apply(preprocess_sentence) "
   ]
  },
  {
   "cell_type": "code",
   "execution_count": 0,
   "metadata": {
    "colab": {},
    "colab_type": "code",
    "collapsed": true,
    "id": "YH36H0cwWJBb"
   },
   "outputs": [],
   "source": [
    "#Function to calculate number of words in each sentence\n",
    "def wordsSent(sent):\n",
    "    return len(sent.split(\" \"))"
   ]
  },
  {
   "cell_type": "code",
   "execution_count": 0,
   "metadata": {
    "colab": {},
    "colab_type": "code",
    "collapsed": true,
    "id": "9xwAUTgdWI-Z"
   },
   "outputs": [],
   "source": [
    "#applying the function\n",
    "data['NumberofWords'] = data['output2'].apply(wordsSent)"
   ]
  },
  {
   "cell_type": "code",
   "execution_count": 0,
   "metadata": {
    "colab": {},
    "colab_type": "code",
    "collapsed": true,
    "id": "p_9vkYB0WI7F"
   },
   "outputs": [],
   "source": [
    "#plotting the distribution of number of words in a sentance\n",
    "sns.distplot(data['NumberofWords'])"
   ]
  },
  {
   "cell_type": "code",
   "execution_count": 0,
   "metadata": {
    "colab": {},
    "colab_type": "code",
    "collapsed": true,
    "id": "EpgtEN-lWI2o"
   },
   "outputs": [],
   "source": [
    "#Removing the sentences which contain word 's' because that is a invalid word\n",
    "data = data[~data.output2.str.contains(r'\\bs\\b')]"
   ]
  },
  {
   "cell_type": "code",
   "execution_count": 0,
   "metadata": {
    "colab": {},
    "colab_type": "code",
    "collapsed": true,
    "id": "AmiTqDGqWIzW"
   },
   "outputs": [],
   "source": [
    "data_red = data.drop(['Eng','output','output1','NumberofWords'],axis=1)"
   ]
  },
  {
   "cell_type": "code",
   "execution_count": 0,
   "metadata": {
    "colab": {},
    "colab_type": "code",
    "collapsed": true,
    "id": "QrMqP4tZWIvy"
   },
   "outputs": [],
   "source": [
    "#Saving the file\n",
    "data_red.to_csv('DataAttention.csv',index=False)"
   ]
  },
  {
   "cell_type": "code",
   "execution_count": 0,
   "metadata": {
    "colab": {},
    "colab_type": "code",
    "collapsed": true,
    "id": "fHpo8C7bWtDI"
   },
   "outputs": [],
   "source": [
    "data = pd.read_csv('DataAttention.csv')"
   ]
  },
  {
   "cell_type": "code",
   "execution_count": 0,
   "metadata": {
    "colab": {},
    "colab_type": "code",
    "collapsed": true,
    "id": "OpM4N82OWs_N"
   },
   "outputs": [],
   "source": [
    "#Second Part(pertubation)"
   ]
  },
  {
   "cell_type": "code",
   "execution_count": 0,
   "metadata": {
    "colab": {},
    "colab_type": "code",
    "collapsed": true,
    "id": "baU__qPxWs8J"
   },
   "outputs": [],
   "source": [
    "#Taking 100k sentences \n",
    "data_red = data.sample(100000)"
   ]
  },
  {
   "cell_type": "code",
   "execution_count": 0,
   "metadata": {
    "colab": {},
    "colab_type": "code",
    "collapsed": true,
    "id": "Y1CPesVOWs4_"
   },
   "outputs": [],
   "source": [
    "data_red_copy = data_red.copy() "
   ]
  },
  {
   "cell_type": "code",
   "execution_count": 0,
   "metadata": {
    "colab": {},
    "colab_type": "code",
    "collapsed": true,
    "id": "HETB0Wn1Ws1_"
   },
   "outputs": [],
   "source": [
    "data_red_copy['input'] = data_red['output2']"
   ]
  },
  {
   "cell_type": "code",
   "execution_count": 0,
   "metadata": {
    "colab": {},
    "colab_type": "code",
    "collapsed": true,
    "id": "Iy4gN7fGWsyy"
   },
   "outputs": [],
   "source": [
    "#Removing a from the input sentence\n",
    "'''\n",
    "Suppose a sentence is like = \"there is a boy\"\n",
    "After applying pertubation funcction it will be = \"there is boy\"\n",
    "re.compile takes the which is only a\n",
    "re.sub substitute '' in place of a\n",
    "'''\n",
    "def pertubation(values):\n",
    "    regexp = re.compile(r\"\\ba\\b\")\n",
    "    if regexp.search(values):\n",
    "        patt = re.sub(r\"\\ba\\b\",'',values)\n",
    "        return patt\n",
    "    else:\n",
    "        return -1"
   ]
  },
  {
   "cell_type": "code",
   "execution_count": 0,
   "metadata": {
    "colab": {},
    "colab_type": "code",
    "collapsed": true,
    "id": "BX7Cr_ooWsv5"
   },
   "outputs": [],
   "source": [
    "#generating random number \n",
    "randomNumber = np.random.randint(low=0,high=100000,size=90000)"
   ]
  },
  {
   "cell_type": "code",
   "execution_count": 0,
   "metadata": {
    "colab": {},
    "colab_type": "code",
    "collapsed": true,
    "id": "xD7JzgjgWssr"
   },
   "outputs": [],
   "source": [
    "#using that random number to remove a from 5% of sentances in the corpus\n",
    "count=0\n",
    "for i in tqdm(randomNumber):\n",
    "    #print(i)\n",
    "    returnValue = pertubation(data_red_copy['input'].iloc[i])\n",
    "    if returnValue==-1:\n",
    "        continue\n",
    "    if count==10000:\n",
    "        break\n",
    "    else:\n",
    "        #print(count)\n",
    "        data_red_copy['input'].iloc[i] = returnValue\n",
    "        count+=1"
   ]
  },
  {
   "cell_type": "code",
   "execution_count": 0,
   "metadata": {
    "colab": {},
    "colab_type": "code",
    "collapsed": true,
    "id": "hk5NtnezWspi"
   },
   "outputs": [],
   "source": [
    "#generating random number\n",
    "randomNumber = np.random.randint(low=0,high=100000,size=90000)"
   ]
  },
  {
   "cell_type": "code",
   "execution_count": 0,
   "metadata": {
    "colab": {},
    "colab_type": "code",
    "collapsed": true,
    "id": "CCvVxe-gXBuf"
   },
   "outputs": [],
   "source": [
    "#this function removes \"an\" from 5 % of sentances in the corpus\n",
    "'''\n",
    "Suppose a sentence is like = \"there is an elephant\"\n",
    "After applying pertubation funcction it will be = \"there is elephant\"\n",
    "re.compile takes the which is only an\n",
    "re.sub substitute '' in place of an\n",
    "'''\n",
    "def pertubation1(values):\n",
    "    regexp = re.compile(r\"\\ban\\b\")\n",
    "    if regexp.search(values):\n",
    "        patt = re.sub(r\"\\ban\\b\",'',values)\n",
    "        return patt\n",
    "    else:\n",
    "        return -1"
   ]
  },
  {
   "cell_type": "code",
   "execution_count": 0,
   "metadata": {
    "colab": {},
    "colab_type": "code",
    "collapsed": true,
    "id": "EyklqMQZXBrX"
   },
   "outputs": [],
   "source": [
    "#using that number to remove \"an\" from sentances in the corpus\n",
    "count=0\n",
    "for i in tqdm(randomNumber):\n",
    "    #print(i)\n",
    "    returnValue = pertubation1(data_red_copy['input'].iloc[i])\n",
    "    if returnValue==-1:\n",
    "        continue\n",
    "    if count==10000:\n",
    "        break\n",
    "    else:\n",
    "        #print(count)\n",
    "        data_red_copy['input'].iloc[i] = returnValue\n",
    "        count+=1"
   ]
  },
  {
   "cell_type": "code",
   "execution_count": 0,
   "metadata": {
    "colab": {},
    "colab_type": "code",
    "collapsed": true,
    "id": "3edFHEk4XBoX"
   },
   "outputs": [],
   "source": [
    "#this function removes \"the\" from 5 % of sentances in the corpus\n",
    "'''\n",
    "Suppose a sentence is like = \"the movie is good\"\n",
    "After applying pertubation funcction it will be = \"movie is good\"\n",
    "re.compile takes the which is only a\n",
    "re.sub substitute '' in place of the \n",
    "'''\n",
    "def pertubation2(values):\n",
    "    regexp = re.compile(r\"\\bthe\\b\")\n",
    "    if regexp.search(values):\n",
    "        patt = re.sub(r\"\\bthe\\b\",'',values)\n",
    "        return patt\n",
    "    else:\n",
    "        return -1"
   ]
  },
  {
   "cell_type": "code",
   "execution_count": 0,
   "metadata": {
    "colab": {},
    "colab_type": "code",
    "collapsed": true,
    "id": "WNTbmWkiXBlZ"
   },
   "outputs": [],
   "source": [
    "#generating random number\n",
    "randomNumber = np.random.randint(low=0,high=100000,size=90000)"
   ]
  },
  {
   "cell_type": "code",
   "execution_count": 0,
   "metadata": {
    "colab": {},
    "colab_type": "code",
    "collapsed": true,
    "id": "dAXy3lHkXBhZ"
   },
   "outputs": [],
   "source": [
    "#using that number to remove \"the\" from sentances in the corpus\n",
    "count=0\n",
    "for i in tqdm(randomNumber):\n",
    "    #print(i)\n",
    "    returnValue = pertubation2(data_red_copy['input'].iloc[i])\n",
    "    if returnValue==-1:\n",
    "        continue\n",
    "    if count==10000:\n",
    "        break\n",
    "    else:\n",
    "        #print(count)\n",
    "        data_red_copy['input'].iloc[i] = returnValue\n",
    "        count+=1"
   ]
  },
  {
   "cell_type": "code",
   "execution_count": 0,
   "metadata": {
    "colab": {},
    "colab_type": "code",
    "collapsed": true,
    "id": "l5kufZDwXBdY"
   },
   "outputs": [],
   "source": [
    "#Inplace of \"their\" writing \"there\" in the input sentences in 5% of data\n",
    "def pertubation3(values):\n",
    "    regexp = re.compile(r\"\\btheir\\b\")\n",
    "    if regexp.search(values):\n",
    "        patt = re.sub(r\"\\btheir\\b\",'there',values)\n",
    "        return patt\n",
    "    else:\n",
    "        return -1"
   ]
  },
  {
   "cell_type": "code",
   "execution_count": 0,
   "metadata": {
    "colab": {},
    "colab_type": "code",
    "collapsed": true,
    "id": "c5zEqiA1XBaB"
   },
   "outputs": [],
   "source": [
    "#generating random number\n",
    "randomNumber = np.random.randint(low=0,high=100000,size=90000)"
   ]
  },
  {
   "cell_type": "code",
   "execution_count": 0,
   "metadata": {
    "colab": {},
    "colab_type": "code",
    "collapsed": true,
    "id": "O4wHdDocXBW0"
   },
   "outputs": [],
   "source": [
    "#Inplace of \"their\" writing \"there\" in the input sentences in 5% of data\n",
    "count=0\n",
    "for i in tqdm(randomNumber):\n",
    "    #print(i)\n",
    "    returnValue = pertubation3(data_red_copy['input'].iloc[i])\n",
    "    if returnValue==-1:\n",
    "        continue\n",
    "    if count==10000:\n",
    "        break\n",
    "    else:\n",
    "        #print(count)\n",
    "        data_red_copy['input'].iloc[i] = returnValue\n",
    "        count+=1"
   ]
  },
  {
   "cell_type": "code",
   "execution_count": 0,
   "metadata": {
    "colab": {},
    "colab_type": "code",
    "collapsed": true,
    "id": "nChCgaDhXBTg"
   },
   "outputs": [],
   "source": [
    "#Inplace of \"then\" writing \"than\" in the input sentences in 5% of data\n",
    "def pertubation4(values):\n",
    "    regexp = re.compile(r\"\\bthen\\b\")\n",
    "    if regexp.search(values):\n",
    "        patt = re.sub(r\"\\bthen\\b\",'than',values)\n",
    "        return patt\n",
    "    else:\n",
    "        return -1"
   ]
  },
  {
   "cell_type": "code",
   "execution_count": 0,
   "metadata": {
    "colab": {},
    "colab_type": "code",
    "collapsed": true,
    "id": "393Np4kFXU9K"
   },
   "outputs": [],
   "source": [
    "#Inplace of \"then\" writing \"than\" in the input sentences in 5% of data\n",
    "count=0\n",
    "for i in tqdm(randomNumber):\n",
    "    #print(i)\n",
    "    returnValue = pertubation4(data_red_copy['input'].iloc[i])\n",
    "    if returnValue==-1:\n",
    "        continue\n",
    "    if count==10000:\n",
    "        break\n",
    "    else:\n",
    "        #print(count)\n",
    "        data_red_copy['input'].iloc[i] = returnValue\n",
    "        count+=1"
   ]
  },
  {
   "cell_type": "code",
   "execution_count": 0,
   "metadata": {
    "colab": {},
    "colab_type": "code",
    "collapsed": true,
    "id": "La07Z1UJXU5g"
   },
   "outputs": [],
   "source": [
    "#Finally all the preprocessing and pretuation are done\n",
    "data_red_copy.to_csv('AtteFinal.csv',index=False)"
   ]
  },
  {
   "cell_type": "code",
   "execution_count": 0,
   "metadata": {
    "colab": {},
    "colab_type": "code",
    "collapsed": true,
    "id": "sZIrW1qxXU1b"
   },
   "outputs": [],
   "source": [
    "#Now for training the model"
   ]
  },
  {
   "cell_type": "code",
   "execution_count": 0,
   "metadata": {
    "colab": {},
    "colab_type": "code",
    "collapsed": true,
    "id": "Lsh8DVXzrCOr"
   },
   "outputs": [],
   "source": [
    "#reading the csv file\n",
    "data_reduced = pd.read_csv(r'drive/My Drive/DeepTextCorrector/AtteFinal.csv')"
   ]
  },
  {
   "cell_type": "code",
   "execution_count": 0,
   "metadata": {
    "colab": {
     "base_uri": "https://localhost:8080/",
     "height": 667
    },
    "colab_type": "code",
    "id": "tkQ8gumt1igQ",
    "outputId": "0f5b7b6f-6d74-44f7-e18a-17dadb3b0ce5"
   },
   "outputs": [
    {
     "data": {
      "text/html": [
       "<div>\n",
       "<style scoped>\n",
       "    .dataframe tbody tr th:only-of-type {\n",
       "        vertical-align: middle;\n",
       "    }\n",
       "\n",
       "    .dataframe tbody tr th {\n",
       "        vertical-align: top;\n",
       "    }\n",
       "\n",
       "    .dataframe thead th {\n",
       "        text-align: right;\n",
       "    }\n",
       "</style>\n",
       "<table border=\"1\" class=\"dataframe\">\n",
       "  <thead>\n",
       "    <tr style=\"text-align: right;\">\n",
       "      <th></th>\n",
       "      <th>output2</th>\n",
       "      <th>input</th>\n",
       "    </tr>\n",
       "  </thead>\n",
       "  <tbody>\n",
       "    <tr>\n",
       "      <th>0</th>\n",
       "      <td>tom said he would do his homework by himself .</td>\n",
       "      <td>tom said he would do his homework by himself .</td>\n",
       "    </tr>\n",
       "    <tr>\n",
       "      <th>1</th>\n",
       "      <td>i cannot refrain from expressing my opinion ab...</td>\n",
       "      <td>i cannot refrain from expressing my opinion ab...</td>\n",
       "    </tr>\n",
       "    <tr>\n",
       "      <th>2</th>\n",
       "      <td>your hair is ugly .</td>\n",
       "      <td>your hair is ugly .</td>\n",
       "    </tr>\n",
       "    <tr>\n",
       "      <th>3</th>\n",
       "      <td>tom told everybody that he was going to move t...</td>\n",
       "      <td>tom told everybody that he was going to move t...</td>\n",
       "    </tr>\n",
       "    <tr>\n",
       "      <th>4</th>\n",
       "      <td>there are no printers here .</td>\n",
       "      <td>there are no printers here .</td>\n",
       "    </tr>\n",
       "    <tr>\n",
       "      <th>5</th>\n",
       "      <td>i am going to report you to the police .</td>\n",
       "      <td>i am going to report you to the police .</td>\n",
       "    </tr>\n",
       "    <tr>\n",
       "      <th>6</th>\n",
       "      <td>i can not talk to her anymore .</td>\n",
       "      <td>i can not talk to her anymore .</td>\n",
       "    </tr>\n",
       "    <tr>\n",
       "      <th>7</th>\n",
       "      <td>can you stop it ?</td>\n",
       "      <td>can you stop it ?</td>\n",
       "    </tr>\n",
       "    <tr>\n",
       "      <th>8</th>\n",
       "      <td>she should not have done such a thing .</td>\n",
       "      <td>she should not have done such  thing .</td>\n",
       "    </tr>\n",
       "    <tr>\n",
       "      <th>9</th>\n",
       "      <td>i did not know that you used to live in austra...</td>\n",
       "      <td>i did not know that you used to live in austra...</td>\n",
       "    </tr>\n",
       "    <tr>\n",
       "      <th>10</th>\n",
       "      <td>he will always love him .</td>\n",
       "      <td>he will always love him .</td>\n",
       "    </tr>\n",
       "    <tr>\n",
       "      <th>11</th>\n",
       "      <td>she says she wants to quit her job .</td>\n",
       "      <td>she says she wants to quit her job .</td>\n",
       "    </tr>\n",
       "    <tr>\n",
       "      <th>12</th>\n",
       "      <td>are not you still in love with tom ?</td>\n",
       "      <td>are not you still in love with tom ?</td>\n",
       "    </tr>\n",
       "    <tr>\n",
       "      <th>13</th>\n",
       "      <td>this kabyle dress is gorgeous .</td>\n",
       "      <td>this kabyle dress is gorgeous .</td>\n",
       "    </tr>\n",
       "    <tr>\n",
       "      <th>14</th>\n",
       "      <td>tom does not let anyone drive his car .</td>\n",
       "      <td>tom does not let anyone drive his car .</td>\n",
       "    </tr>\n",
       "    <tr>\n",
       "      <th>15</th>\n",
       "      <td>this is difficult for us .</td>\n",
       "      <td>this is difficult for us .</td>\n",
       "    </tr>\n",
       "    <tr>\n",
       "      <th>16</th>\n",
       "      <td>sami came up to me and started to yell in my e...</td>\n",
       "      <td>sami came up to me and started to yell in my e...</td>\n",
       "    </tr>\n",
       "    <tr>\n",
       "      <th>17</th>\n",
       "      <td>i did not know that tom had only one leg .</td>\n",
       "      <td>i did not know that tom had only one leg .</td>\n",
       "    </tr>\n",
       "    <tr>\n",
       "      <th>18</th>\n",
       "      <td>as businesses failed , workers lost their jobs .</td>\n",
       "      <td>as businesses failed , workers lost their jobs .</td>\n",
       "    </tr>\n",
       "    <tr>\n",
       "      <th>19</th>\n",
       "      <td>is it ok to take food on the plane ?</td>\n",
       "      <td>is it ok to take food on  plane ?</td>\n",
       "    </tr>\n",
       "  </tbody>\n",
       "</table>\n",
       "</div>"
      ],
      "text/plain": [
       "                                              output2                                              input\n",
       "0      tom said he would do his homework by himself .     tom said he would do his homework by himself .\n",
       "1   i cannot refrain from expressing my opinion ab...  i cannot refrain from expressing my opinion ab...\n",
       "2                                 your hair is ugly .                                your hair is ugly .\n",
       "3   tom told everybody that he was going to move t...  tom told everybody that he was going to move t...\n",
       "4                        there are no printers here .                       there are no printers here .\n",
       "5            i am going to report you to the police .           i am going to report you to the police .\n",
       "6                     i can not talk to her anymore .                    i can not talk to her anymore .\n",
       "7                                   can you stop it ?                                  can you stop it ?\n",
       "8             she should not have done such a thing .             she should not have done such  thing .\n",
       "9   i did not know that you used to live in austra...  i did not know that you used to live in austra...\n",
       "10                          he will always love him .                          he will always love him .\n",
       "11               she says she wants to quit her job .               she says she wants to quit her job .\n",
       "12               are not you still in love with tom ?               are not you still in love with tom ?\n",
       "13                    this kabyle dress is gorgeous .                    this kabyle dress is gorgeous .\n",
       "14            tom does not let anyone drive his car .            tom does not let anyone drive his car .\n",
       "15                         this is difficult for us .                         this is difficult for us .\n",
       "16  sami came up to me and started to yell in my e...  sami came up to me and started to yell in my e...\n",
       "17         i did not know that tom had only one leg .         i did not know that tom had only one leg .\n",
       "18   as businesses failed , workers lost their jobs .   as businesses failed , workers lost their jobs .\n",
       "19               is it ok to take food on the plane ?                  is it ok to take food on  plane ?"
      ]
     },
     "execution_count": 5,
     "metadata": {
      "tags": []
     },
     "output_type": "execute_result"
    }
   ],
   "source": [
    "data_reduced.head(20)"
   ]
  },
  {
   "cell_type": "code",
   "execution_count": 0,
   "metadata": {
    "colab": {},
    "colab_type": "code",
    "collapsed": true,
    "id": "F6Dex-M8Xj_W"
   },
   "outputs": [],
   "source": [
    "#Renaming the ouput2 columns as output\n",
    "data_reduced.rename(columns={\"output2\":\"output\"},inplace=True)"
   ]
  },
  {
   "cell_type": "code",
   "execution_count": 0,
   "metadata": {
    "colab": {},
    "colab_type": "code",
    "collapsed": true,
    "id": "sLKD2cJWOpYQ"
   },
   "outputs": [],
   "source": [
    "#Applyting START_ and END_ tag to the output sentence\n",
    "data_reduced.output = data_reduced.output.apply(lambda x : 'START_ '+ x + ' _END')"
   ]
  },
  {
   "cell_type": "code",
   "execution_count": 0,
   "metadata": {
    "colab": {
     "base_uri": "https://localhost:8080/",
     "height": 203
    },
    "colab_type": "code",
    "id": "6tlxblvgQrqI",
    "outputId": "901acbc0-7511-444c-9853-1b0f6997298d"
   },
   "outputs": [
    {
     "data": {
      "text/html": [
       "<div>\n",
       "<style scoped>\n",
       "    .dataframe tbody tr th:only-of-type {\n",
       "        vertical-align: middle;\n",
       "    }\n",
       "\n",
       "    .dataframe tbody tr th {\n",
       "        vertical-align: top;\n",
       "    }\n",
       "\n",
       "    .dataframe thead th {\n",
       "        text-align: right;\n",
       "    }\n",
       "</style>\n",
       "<table border=\"1\" class=\"dataframe\">\n",
       "  <thead>\n",
       "    <tr style=\"text-align: right;\">\n",
       "      <th></th>\n",
       "      <th>output</th>\n",
       "      <th>input</th>\n",
       "    </tr>\n",
       "  </thead>\n",
       "  <tbody>\n",
       "    <tr>\n",
       "      <th>0</th>\n",
       "      <td>START_ tom said he would do his homework by hi...</td>\n",
       "      <td>tom said he would do his homework by himself .</td>\n",
       "    </tr>\n",
       "    <tr>\n",
       "      <th>1</th>\n",
       "      <td>START_ i cannot refrain from expressing my opi...</td>\n",
       "      <td>i cannot refrain from expressing my opinion ab...</td>\n",
       "    </tr>\n",
       "    <tr>\n",
       "      <th>2</th>\n",
       "      <td>START_ your hair is ugly . _END</td>\n",
       "      <td>your hair is ugly .</td>\n",
       "    </tr>\n",
       "    <tr>\n",
       "      <th>3</th>\n",
       "      <td>START_ tom told everybody that he was going to...</td>\n",
       "      <td>tom told everybody that he was going to move t...</td>\n",
       "    </tr>\n",
       "    <tr>\n",
       "      <th>4</th>\n",
       "      <td>START_ there are no printers here . _END</td>\n",
       "      <td>there are no printers here .</td>\n",
       "    </tr>\n",
       "  </tbody>\n",
       "</table>\n",
       "</div>"
      ],
      "text/plain": [
       "                                              output                                              input\n",
       "0  START_ tom said he would do his homework by hi...     tom said he would do his homework by himself .\n",
       "1  START_ i cannot refrain from expressing my opi...  i cannot refrain from expressing my opinion ab...\n",
       "2                    START_ your hair is ugly . _END                                your hair is ugly .\n",
       "3  START_ tom told everybody that he was going to...  tom told everybody that he was going to move t...\n",
       "4           START_ there are no printers here . _END                       there are no printers here ."
      ]
     },
     "execution_count": 8,
     "metadata": {
      "tags": []
     },
     "output_type": "execute_result"
    }
   ],
   "source": [
    "data_reduced.head()"
   ]
  },
  {
   "cell_type": "code",
   "execution_count": 0,
   "metadata": {
    "colab": {},
    "colab_type": "code",
    "collapsed": true,
    "id": "ysEVv9nOQrnP"
   },
   "outputs": [],
   "source": [
    "#Taking all the input words\n",
    "input_word=set()\n",
    "for sent in data_reduced.input:#Taking input sentence one by one\n",
    "    for word in sent.split(\" \"):#splitting the sentence by space and generating word\n",
    "        if word not in input_word:#if that word is not in the input_word set\n",
    "            input_word.add(word)#We are adding that word"
   ]
  },
  {
   "cell_type": "code",
   "execution_count": 0,
   "metadata": {
    "colab": {},
    "colab_type": "code",
    "collapsed": true,
    "id": "SIBl-pTHQriR"
   },
   "outputs": [],
   "source": [
    "#Taking all the output words\n",
    "output_word=set()\n",
    "for sent in data_reduced.output:#Taking output sentence one by one\n",
    "    for word in sent.split(\" \"):#splitting the sentence by space and generating word\n",
    "        if word not in output_word:#if that word is not in the output_word set\n",
    "            output_word.add(word)#We are adding that word"
   ]
  },
  {
   "cell_type": "code",
   "execution_count": 0,
   "metadata": {
    "colab": {
     "base_uri": "https://localhost:8080/",
     "height": 34
    },
    "colab_type": "code",
    "id": "CcXGN8p8TyY7",
    "outputId": "c10053e5-5180-494f-abaf-56a8970899d1"
   },
   "outputs": [
    {
     "data": {
      "text/plain": [
       "28"
      ]
     },
     "execution_count": 11,
     "metadata": {
      "tags": []
     },
     "output_type": "execute_result"
    }
   ],
   "source": [
    "#Calculating the max length of the input which is found to be 28\n",
    "length_list=[]\n",
    "for l in data_reduced.input:#Taking input sentence one by one\n",
    "    length_list.append(len(l.split(' ')))#Calculating its length counting number of words\n",
    "max_length_src = np.max(length_list)#Finding max length of the sentence\n",
    "max_length_src"
   ]
  },
  {
   "cell_type": "code",
   "execution_count": 0,
   "metadata": {
    "colab": {},
    "colab_type": "code",
    "collapsed": true,
    "id": "4IWQe3mOPtdk"
   },
   "outputs": [],
   "source": []
  },
  {
   "cell_type": "code",
   "execution_count": 0,
   "metadata": {
    "colab": {
     "base_uri": "https://localhost:8080/",
     "height": 288
    },
    "colab_type": "code",
    "id": "sUsDnEo7PIiJ",
    "outputId": "7e6aa781-22a5-44d5-e771-af32914cc036"
   },
   "outputs": [
    {
     "data": {
      "text/html": [
       "<div>\n",
       "<style scoped>\n",
       "    .dataframe tbody tr th:only-of-type {\n",
       "        vertical-align: middle;\n",
       "    }\n",
       "\n",
       "    .dataframe tbody tr th {\n",
       "        vertical-align: top;\n",
       "    }\n",
       "\n",
       "    .dataframe thead th {\n",
       "        text-align: right;\n",
       "    }\n",
       "</style>\n",
       "<table border=\"1\" class=\"dataframe\">\n",
       "  <thead>\n",
       "    <tr style=\"text-align: right;\">\n",
       "      <th></th>\n",
       "      <th>conversation</th>\n",
       "      <th>NumberofWords</th>\n",
       "      <th>CleanedConversation</th>\n",
       "      <th>output</th>\n",
       "      <th>input</th>\n",
       "    </tr>\n",
       "  </thead>\n",
       "  <tbody>\n",
       "    <tr>\n",
       "      <th>0</th>\n",
       "      <td>Yes, Mr. Hillyer, it was. I... I heard strange...</td>\n",
       "      <td>13</td>\n",
       "      <td>yes mr hillyer it was i i heard strange voices...</td>\n",
       "      <td>START_ yes mr hillyer it was i i heard strange...</td>\n",
       "      <td>yes mr hillyer it was i i heard strange voices...</td>\n",
       "    </tr>\n",
       "    <tr>\n",
       "      <th>1</th>\n",
       "      <td>There you are, sitting next to the creator, wh...</td>\n",
       "      <td>12</td>\n",
       "      <td>there you are sitting next to the creator what...</td>\n",
       "      <td>START_ there you are sitting next to the creat...</td>\n",
       "      <td>there you are sitting next to the creator what...</td>\n",
       "    </tr>\n",
       "    <tr>\n",
       "      <th>2</th>\n",
       "      <td>I don't have a sense of humor, either.  Sorry.</td>\n",
       "      <td>10</td>\n",
       "      <td>i dont have a sense of humor either sorry</td>\n",
       "      <td>START_ i do not have a sense of humor either s...</td>\n",
       "      <td>i do not have a sense of humor either sorry</td>\n",
       "    </tr>\n",
       "    <tr>\n",
       "      <th>3</th>\n",
       "      <td>It's definitely a step back for me.</td>\n",
       "      <td>7</td>\n",
       "      <td>its definitely a step back for me</td>\n",
       "      <td>START_ it is definitely a step back for me _END</td>\n",
       "      <td>it is definitely  step back for me</td>\n",
       "    </tr>\n",
       "    <tr>\n",
       "      <th>4</th>\n",
       "      <td>You'll wake the whole neighborhood!</td>\n",
       "      <td>5</td>\n",
       "      <td>youll wake the whole neighborhood</td>\n",
       "      <td>START_ youll wake the whole neighborhood _END</td>\n",
       "      <td>youll wake the whole neighborhood</td>\n",
       "    </tr>\n",
       "  </tbody>\n",
       "</table>\n",
       "</div>"
      ],
      "text/plain": [
       "                                        conversation  ...                                              input\n",
       "0  Yes, Mr. Hillyer, it was. I... I heard strange...  ...  yes mr hillyer it was i i heard strange voices...\n",
       "1  There you are, sitting next to the creator, wh...  ...  there you are sitting next to the creator what...\n",
       "2     I don't have a sense of humor, either.  Sorry.  ...        i do not have a sense of humor either sorry\n",
       "3                It's definitely a step back for me.  ...                 it is definitely  step back for me\n",
       "4                You'll wake the whole neighborhood!  ...                  youll wake the whole neighborhood\n",
       "\n",
       "[5 rows x 5 columns]"
      ]
     },
     "execution_count": 28,
     "metadata": {
      "tags": []
     },
     "output_type": "execute_result"
    }
   ],
   "source": [
    "data_reduced.head()"
   ]
  },
  {
   "cell_type": "code",
   "execution_count": 0,
   "metadata": {
    "colab": {
     "base_uri": "https://localhost:8080/",
     "height": 34
    },
    "colab_type": "code",
    "id": "scoQM4npTzs9",
    "outputId": "b9698a83-ad82-4485-afcb-97467819e375"
   },
   "outputs": [
    {
     "data": {
      "text/plain": [
       "30"
      ]
     },
     "execution_count": 12,
     "metadata": {
      "tags": []
     },
     "output_type": "execute_result"
    }
   ],
   "source": [
    "#The max length of the output found to be 30\n",
    "length_list=[]\n",
    "for l in data_reduced.output:#Taking output sentence one by one\n",
    "    length_list.append(len(l.split(' ')))#Calculating its length counting number of words\n",
    "max_length_tar = np.max(length_list)#Finding max length of the sentence\n",
    "max_length_tar"
   ]
  },
  {
   "cell_type": "code",
   "execution_count": 0,
   "metadata": {
    "colab": {
     "base_uri": "https://localhost:8080/",
     "height": 34
    },
    "colab_type": "code",
    "id": "osb8-BBHT1hm",
    "outputId": "06155fd3-9e2d-45dc-8510-e7ae66e787fc"
   },
   "outputs": [
    {
     "data": {
      "text/plain": [
       "(19011, 19012)"
      ]
     },
     "execution_count": 13,
     "metadata": {
      "tags": []
     },
     "output_type": "execute_result"
    }
   ],
   "source": [
    "#Number of unique words in input and unique words in output\n",
    "input_words = sorted(list(input_word))#Sorting the input words\n",
    "target_words = sorted(list(output_word))#Sorting the output words\n",
    "num_encoder_tokens = len(input_word)#Number of words in input words\n",
    "num_decoder_tokens = len(output_word)#Number of words in output words\n",
    "num_encoder_tokens, num_decoder_tokens"
   ]
  },
  {
   "cell_type": "code",
   "execution_count": 0,
   "metadata": {
    "colab": {},
    "colab_type": "code",
    "collapsed": true,
    "id": "WXmPzzCtT3Yv"
   },
   "outputs": [],
   "source": [
    "#For each word in the input and output we are assigning distinct number to them\n",
    "'''\n",
    "We are going through each word and assigning a specific number to it and stroing it in a dict\n",
    "like 'a':1,'the':2\n",
    "'''\n",
    "input_token_index = dict([(word, i) for i, word in enumerate(input_words)])\n",
    "target_token_index = dict([(word, i) for i, word in enumerate(target_words)])"
   ]
  },
  {
   "cell_type": "code",
   "execution_count": 0,
   "metadata": {
    "colab": {},
    "colab_type": "code",
    "collapsed": true,
    "id": "Qd5da1MuT5a9"
   },
   "outputs": [],
   "source": [
    "#similarly each number is associated with a unique word\n",
    "'''\n",
    "Now we are reversing that process\n",
    "For each number we are giving a word and storing it in a dict\n",
    "like 1:'a',2:'the'\n",
    "'''\n",
    "reverse_input_char_index = dict((i, word) for word, i in input_token_index.items())\n",
    "reverse_target_char_index = dict((i, word) for word, i in target_token_index.items())"
   ]
  },
  {
   "cell_type": "code",
   "execution_count": 0,
   "metadata": {
    "colab": {
     "base_uri": "https://localhost:8080/",
     "height": 34
    },
    "colab_type": "code",
    "id": "OZc9eei_T60p",
    "outputId": "54d1132c-d980-418b-cbfe-bbb681867ffc"
   },
   "outputs": [
    {
     "data": {
      "text/plain": [
       "((80000,), (20000,))"
      ]
     },
     "execution_count": 16,
     "metadata": {
      "tags": []
     },
     "output_type": "execute_result"
    }
   ],
   "source": [
    "# Train - Test Split\n",
    "#Splitting the data in to 80-20 ratio\n",
    "x, y = data_reduced.input,data_reduced.output\n",
    "x_train, x_test, y_train, y_test = train_test_split(x, y, test_size = 0.2)\n",
    "x_train.shape, x_test.shape"
   ]
  },
  {
   "cell_type": "code",
   "execution_count": 0,
   "metadata": {
    "colab": {},
    "colab_type": "code",
    "collapsed": true,
    "id": "Qjb_Ca6oT9QD"
   },
   "outputs": [],
   "source": [
    "#in this we are constructing encoder input data,decoder input data and decoder output data for each batch\n",
    "'''\n",
    "encoder_input_data is (128,28) filled with zeros because batch size is 128 and max_length_src is 28\n",
    "decoder_input_data is (128,30) filled with zeros because batch size is 128 and max_length_tar is 30\n",
    "decoder_target data is (128,30,19012) with zeros because batch size is 128 and max_length_tar is 30 \n",
    "and for each word in target sequence we are one hot encoding it which is 19012\n",
    "\n",
    "Then we are traversing through input data and putput data and filling the encoder_input_data with\n",
    "number corresponding to that word and similarly for output data filling the decoder_input_data\n",
    "\n",
    "In decoder_target_data we does not include 'START_' token hence we are filling it after one time stamp\n",
    "\n",
    "'''\n",
    "def generate_batch(X = x_train, y = y_train, batch_size = 128):\n",
    "    ''' Generate a batch of data '''\n",
    "    while True:\n",
    "        for j in range(0, len(X), batch_size):\n",
    "            encoder_input_data = np.zeros((batch_size, max_length_src),dtype='float32')\n",
    "            decoder_input_data = np.zeros((batch_size, max_length_tar),dtype='float32')\n",
    "            decoder_target_data = np.zeros((batch_size, max_length_tar, num_decoder_tokens),dtype='float32')\n",
    "            for i, (input_text, target_text) in enumerate(zip(X[j:j+batch_size], y[j:j+batch_size])):\n",
    "                for t, word in enumerate(input_text.split()):\n",
    "                    encoder_input_data[i, t] = input_token_index[word] # encoder input seq\n",
    "                for t, word in enumerate(target_text.split()):\n",
    "                    if t<len(target_text.split())-1:\n",
    "                        decoder_input_data[i, t] = target_token_index[word] # decoder input seq\n",
    "                    if t>0:\n",
    "                        # decoder target sequence (one hot encoded)\n",
    "                        # does not include the START_ token\n",
    "                        # Offset by one timestep\n",
    "                        decoder_target_data[i, t - 1, target_token_index[word]] = 1.\n",
    "            yield([encoder_input_data, decoder_input_data], decoder_target_data)"
   ]
  },
  {
   "cell_type": "code",
   "execution_count": 0,
   "metadata": {
    "colab": {},
    "colab_type": "code",
    "collapsed": true,
    "id": "VoVc55v_T_TJ"
   },
   "outputs": [],
   "source": [
    "#I want all of my word should represent in 512 dimension\n",
    "latent_dim = 512"
   ]
  },
  {
   "cell_type": "code",
   "execution_count": 0,
   "metadata": {
    "colab": {
     "base_uri": "https://localhost:8080/",
     "height": 194
    },
    "colab_type": "code",
    "id": "GTAIfC5ZUBpT",
    "outputId": "4a826549-a558-4b1a-ed5d-831b8d9bd9a1"
   },
   "outputs": [
    {
     "name": "stdout",
     "output_type": "stream",
     "text": [
      "WARNING:tensorflow:From /usr/local/lib/python3.6/dist-packages/keras/backend/tensorflow_backend.py:66: The name tf.get_default_graph is deprecated. Please use tf.compat.v1.get_default_graph instead.\n",
      "\n",
      "WARNING:tensorflow:From /usr/local/lib/python3.6/dist-packages/keras/backend/tensorflow_backend.py:541: The name tf.placeholder is deprecated. Please use tf.compat.v1.placeholder instead.\n",
      "\n",
      "WARNING:tensorflow:From /usr/local/lib/python3.6/dist-packages/keras/backend/tensorflow_backend.py:4432: The name tf.random_uniform is deprecated. Please use tf.random.uniform instead.\n",
      "\n",
      "WARNING:tensorflow:From /usr/local/lib/python3.6/dist-packages/keras/backend/tensorflow_backend.py:3239: where (from tensorflow.python.ops.array_ops) is deprecated and will be removed in a future version.\n",
      "Instructions for updating:\n",
      "Use tf.where in 2.0, which has the same broadcast rule as np.where\n"
     ]
    }
   ],
   "source": [
    "# Encoder\n",
    "#Constructing the encoder keeping only internal states because that is going to feed to the decoder\n",
    "'''\n",
    "Taking the input then embedding it with a embedding layer then applying LSTM with 512 units\n",
    "the LSTM will generate outputs we will discard that\n",
    "And keep only the internal state of that lstm\n",
    "'''\n",
    "encoder_inputs = Input(shape=(None,))\n",
    "enc_emb =  Embedding(num_encoder_tokens, latent_dim, mask_zero = True)(encoder_inputs)\n",
    "encoder_lstm = LSTM(512, return_state=True)\n",
    "encoder_outputs, state_h, state_c = encoder_lstm(enc_emb)\n",
    "# We discard `encoder_outputs` and only keep the states.\n",
    "encoder_states = [state_h, state_c]"
   ]
  },
  {
   "cell_type": "code",
   "execution_count": null,
   "metadata": {
    "collapsed": true
   },
   "outputs": [],
   "source": [
    "'''\n",
    "# We  start with input sequences from inptut data and \n",
    "corresponding target sequences from output data.\n",
    "# An encoder LSTM turns input sequences to 2 state vectors \n",
    "#(we keep the last LSTM state and discard the outputs).\n",
    "#A decoder LSTM is trained to turn the target sequences into the same sequence \n",
    "#but offset by one timestep in the future, a training process called \"teacher forcing\" in this context. \n",
    "#It uses as initial state the state vectors from the encoder. \n",
    "#Effectively, the decoder learns to generate targets[t+1...] given targets[...t], conditioned on the input sequence.\n",
    "#In inference mode, when we want to decode unknown input sequences, we:\n",
    "#Encode the input sequence into state vectors\n",
    "#Start with a target sequence of size 1\n",
    "#Feed the state vectors and 1-word target sequence to the decoder to produce predictions for the next word\n",
    "#Sample the next word using these predictions (we simply use argmax).\n",
    "#Append the sampled word to the target sequence\n",
    "#Repeat until we generate the end-of-sequence word or we hit the word limit.\n",
    "'''"
   ]
  },
  {
   "cell_type": "code",
   "execution_count": 0,
   "metadata": {
    "colab": {
     "base_uri": "https://localhost:8080/",
     "height": 159
    },
    "colab_type": "code",
    "id": "_6aVZIuvUDVw",
    "outputId": "74bc88c6-fc2b-4139-9779-442f38ff783f"
   },
   "outputs": [
    {
     "name": "stdout",
     "output_type": "stream",
     "text": [
      "WARNING:tensorflow:From /usr/local/lib/python3.6/dist-packages/keras/backend/tensorflow_backend.py:148: The name tf.placeholder_with_default is deprecated. Please use tf.compat.v1.placeholder_with_default instead.\n",
      "\n",
      "WARNING:tensorflow:From /usr/local/lib/python3.6/dist-packages/keras/backend/tensorflow_backend.py:3733: calling dropout (from tensorflow.python.ops.nn_ops) with keep_prob is deprecated and will be removed in a future version.\n",
      "Instructions for updating:\n",
      "Please use `rate` instead of `keep_prob`. Rate should be set to `rate = 1 - keep_prob`.\n",
      "WARNING:tensorflow:Large dropout rate: 0.65 (>0.5). In TensorFlow 2.x, dropout() uses dropout rate instead of keep_prob. Please ensure that this is intended.\n",
      "WARNING:tensorflow:Large dropout rate: 0.65 (>0.5). In TensorFlow 2.x, dropout() uses dropout rate instead of keep_prob. Please ensure that this is intended.\n"
     ]
    }
   ],
   "source": [
    "# Set up the decoder, using `encoder_states` as initial state.\n",
    "# We set up our decoder to return full output sequences,\n",
    "# and to return internal states as well. We don't use the\n",
    "# return states in the training model, but we will use them in inference.\n",
    "#using softmax function we are going to predict which word has the probability high \n",
    "# Define the model that will turn\n",
    "# `encoder_input_data` & `decoder_input_data` into `decoder_target_data`\n",
    "'''\n",
    "The internal states of the encoder goes to the decoder as input\n",
    "'''\n",
    "decoder_inputs = Input(shape=(None,))\n",
    "dec_emb_layer = Embedding(num_decoder_tokens, latent_dim, mask_zero = True)\n",
    "dec_emb = dec_emb_layer(decoder_inputs)\n",
    "decoder_lstm = LSTM(512, return_sequences=True, return_state=True)\n",
    "decoder_outputs, _, _ = decoder_lstm(dec_emb,\n",
    "initial_state=encoder_states)\n",
    "\n",
    "dropout = Dropout(rate=0.65)\n",
    "decoder_dropout = dropout(decoder_outputs)\n",
    "dense1 = Dense(216)\n",
    "decoder_dropout = dense1(decoder_dropout)\n",
    "dropout1 = Dropout(rate=0.65)\n",
    "decoder_dropout =dropout1(decoder_dropout )\n",
    "decoder_dense = Dense(19012, activation='softmax')\n",
    "decoder_outputs = decoder_dense(decoder_dropout)\n",
    "\n",
    "model = Model([encoder_inputs, decoder_inputs], decoder_outputs)"
   ]
  },
  {
   "cell_type": "code",
   "execution_count": 0,
   "metadata": {
    "colab": {
     "base_uri": "https://localhost:8080/",
     "height": 122
    },
    "colab_type": "code",
    "id": "TGDB96fWUQ8h",
    "outputId": "7a28061f-ae7f-45d5-bbfa-bafd0834d2f0"
   },
   "outputs": [
    {
     "data": {
      "text/plain": [
       "21202                    we should have done that sooner .\n",
       "71025      i suspect tom and mary do not have to do that .\n",
       "6961                   i do not have any issue with that .\n",
       "20313                        tom brought  date to  party .\n",
       "18641    tom and mary thought they d be able to do that...\n",
       "Name: input, dtype: object"
      ]
     },
     "execution_count": 21,
     "metadata": {
      "tags": []
     },
     "output_type": "execute_result"
    }
   ],
   "source": [
    "#Lets see how x_train and y_train look like\n",
    "x_train.tail()"
   ]
  },
  {
   "cell_type": "code",
   "execution_count": 0,
   "metadata": {
    "colab": {
     "base_uri": "https://localhost:8080/",
     "height": 122
    },
    "colab_type": "code",
    "id": "5aSLyCciaTpT",
    "outputId": "fab90cc6-7b6d-4660-8a09-13b15efba6ef"
   },
   "outputs": [
    {
     "data": {
      "text/plain": [
       "21202        START_ we should have done that sooner . _END\n",
       "71025    START_ i suspect tom and mary do not have to d...\n",
       "6961       START_ i do not have any issue with that . _END\n",
       "20313        START_ tom brought a date to the party . _END\n",
       "18641    START_ tom and mary thought they d be able to ...\n",
       "Name: output, dtype: object"
      ]
     },
     "execution_count": 22,
     "metadata": {
      "tags": []
     },
     "output_type": "execute_result"
    }
   ],
   "source": [
    "y_train.tail()"
   ]
  },
  {
   "cell_type": "code",
   "execution_count": 0,
   "metadata": {
    "colab": {},
    "colab_type": "code",
    "collapsed": true,
    "id": "78IL1c5LUGPx"
   },
   "outputs": [],
   "source": [
    "train_samples = len(x_train)\n",
    "val_samples = len(x_test)\n",
    "batch_size = 128\n",
    "#Training for 50 epoch\n",
    "epochs = 50"
   ]
  },
  {
   "cell_type": "code",
   "execution_count": 0,
   "metadata": {
    "colab": {
     "base_uri": "https://localhost:8080/",
     "height": 107
    },
    "colab_type": "code",
    "id": "IP5cODGNUNNW",
    "outputId": "118c1a59-c004-44e2-c23e-e2785efd0f91"
   },
   "outputs": [
    {
     "name": "stdout",
     "output_type": "stream",
     "text": [
      "WARNING:tensorflow:From /usr/local/lib/python3.6/dist-packages/keras/optimizers.py:793: The name tf.train.Optimizer is deprecated. Please use tf.compat.v1.train.Optimizer instead.\n",
      "\n",
      "WARNING:tensorflow:From /usr/local/lib/python3.6/dist-packages/keras/backend/tensorflow_backend.py:3576: The name tf.log is deprecated. Please use tf.math.log instead.\n",
      "\n"
     ]
    }
   ],
   "source": [
    "model.compile(optimizer='adam', loss='categorical_crossentropy', metrics=['acc'])"
   ]
  },
  {
   "cell_type": "code",
   "execution_count": 0,
   "metadata": {
    "colab": {},
    "colab_type": "code",
    "collapsed": true,
    "id": "uke3ttceUOv0"
   },
   "outputs": [],
   "source": [
    "#save model to the file model_1.h5\n",
    "#we are monitoring the validation loss\n",
    "#save_best_only = we are savin the only the best model\n",
    "#mode='min' means we are saving the min_val_loss\n",
    "#if we are monitoring the \"acc\" then mode will be max because we want to save the max accuracy\n",
    "checkpoint_1 = ModelCheckpoint(\"model_1.h5\",\n",
    "                             monitor=\"val_loss\",\n",
    "                             mode=\"min\",\n",
    "                             save_best_only = True,\n",
    "                             verbose=1)\n",
    "#we are monitoring the validation loss\n",
    "#patience=2 means in next 2 epoch if the val_loss does not decrease stop the training of the model\n",
    "#whether to restore model weights from the epoch with the best value of the monitored quantity. \n",
    "#If False, the model weights obtained at the last step of training are used.\n",
    "#min_delta means if the next epoch val_acc is not increased by current epoch val_acc+min_delta\n",
    "#then it will not count as increase(In our case it is 0)\n",
    "earlystop_1 = EarlyStopping(monitor = 'val_loss', \n",
    "                            mode=\"min\",\n",
    "                            min_delta = 0, \n",
    "                            patience = 2,\n",
    "                            verbose = 1,\n",
    "                            restore_best_weights = True)\n",
    "#Reduce learning rate when a metric has stopped improving.\n",
    "#Models often benefit from reducing the learning rate by a factor of 2-10 once learning stagnates.\n",
    "#This callback monitors a quantity and if no improvement is seen for a 'patience' number of epochs, the learning rate is reduced.\n",
    "#min_delta: threshold for measuring the new optimum, to only focus on significant changes.\n",
    "reduce_lr_1 = ReduceLROnPlateau(monitor = 'val_loss', factor = 0.2, patience = 1, verbose = 1, min_delta = 0.0001)\n",
    "#This callback writes a log for TensorBoard, \n",
    "#which allows you to visualize dynamic graphs of your training and test metrics,\n",
    "#as well as activation histograms for the different layers in your model.\n",
    "#tensorboard_1 = TensorBoard(log_dir='graph_2', histogram_freq=0, batch_size=512, write_graph=True, write_grads=False, write_images=False, embeddings_freq=0, embeddings_layer_names=None, embeddings_metadata=None, embeddings_data=None, update_freq='epoch')\n",
    "#append all the callbacks into one\n",
    "callbacks_1 = [checkpoint_1,earlystop_1,reduce_lr_1]"
   ]
  },
  {
   "cell_type": "code",
   "execution_count": 0,
   "metadata": {
    "colab": {
     "base_uri": "https://localhost:8080/",
     "height": 122
    },
    "colab_type": "code",
    "id": "Vkivs_cHpoNq",
    "outputId": "91518210-d957-4b71-8510-5b5ea7b7803f"
   },
   "outputs": [
    {
     "data": {
      "text/plain": [
       "46593         tom told mary that he had feelings for her .\n",
       "17550    tom did not want to eat  worms even though the...\n",
       "30970       it may already be too late for us to do that .\n",
       "21149             she did not really mean that , did she ?\n",
       "90099                           i want to take dictation .\n",
       "Name: input, dtype: object"
      ]
     },
     "execution_count": 49,
     "metadata": {
      "tags": []
     },
     "output_type": "execute_result"
    }
   ],
   "source": [
    "x_test.head()"
   ]
  },
  {
   "cell_type": "code",
   "execution_count": 0,
   "metadata": {
    "colab": {
     "base_uri": "https://localhost:8080/",
     "height": 1000
    },
    "colab_type": "code",
    "id": "XHD0YlQ2bZBy",
    "outputId": "d6c936f7-e8a1-4ec0-b490-2878ad780148"
   },
   "outputs": [
    {
     "name": "stdout",
     "output_type": "stream",
     "text": [
      "WARNING:tensorflow:From /usr/local/lib/python3.6/dist-packages/keras/backend/tensorflow_backend.py:1033: The name tf.assign_add is deprecated. Please use tf.compat.v1.assign_add instead.\n",
      "\n",
      "WARNING:tensorflow:From /usr/local/lib/python3.6/dist-packages/keras/backend/tensorflow_backend.py:1020: The name tf.assign is deprecated. Please use tf.compat.v1.assign instead.\n",
      "\n",
      "WARNING:tensorflow:From /usr/local/lib/python3.6/dist-packages/keras/backend/tensorflow_backend.py:3005: The name tf.Session is deprecated. Please use tf.compat.v1.Session instead.\n",
      "\n",
      "Epoch 1/50\n",
      "WARNING:tensorflow:From /usr/local/lib/python3.6/dist-packages/keras/backend/tensorflow_backend.py:190: The name tf.get_default_session is deprecated. Please use tf.compat.v1.get_default_session instead.\n",
      "\n",
      "WARNING:tensorflow:From /usr/local/lib/python3.6/dist-packages/keras/backend/tensorflow_backend.py:197: The name tf.ConfigProto is deprecated. Please use tf.compat.v1.ConfigProto instead.\n",
      "\n",
      "WARNING:tensorflow:From /usr/local/lib/python3.6/dist-packages/keras/backend/tensorflow_backend.py:207: The name tf.global_variables is deprecated. Please use tf.compat.v1.global_variables instead.\n",
      "\n",
      "WARNING:tensorflow:From /usr/local/lib/python3.6/dist-packages/keras/backend/tensorflow_backend.py:216: The name tf.is_variable_initialized is deprecated. Please use tf.compat.v1.is_variable_initialized instead.\n",
      "\n",
      "WARNING:tensorflow:From /usr/local/lib/python3.6/dist-packages/keras/backend/tensorflow_backend.py:223: The name tf.variables_initializer is deprecated. Please use tf.compat.v1.variables_initializer instead.\n",
      "\n",
      "625/625 [==============================] - 379s 607ms/step - loss: 4.4991 - acc: 0.2800 - val_loss: 3.5059 - val_acc: 0.3951\n",
      "\n",
      "Epoch 00001: val_loss improved from inf to 3.50586, saving model to model_1.h5\n",
      "Epoch 2/50\n",
      "625/625 [==============================] - 375s 600ms/step - loss: 3.1517 - acc: 0.4706 - val_loss: 2.4151 - val_acc: 0.5912\n",
      "\n",
      "Epoch 00002: val_loss improved from 3.50586 to 2.41506, saving model to model_1.h5\n",
      "Epoch 3/50\n",
      "625/625 [==============================] - 375s 599ms/step - loss: 2.3167 - acc: 0.6022 - val_loss: 1.7607 - val_acc: 0.7114\n",
      "\n",
      "Epoch 00003: val_loss improved from 2.41506 to 1.76075, saving model to model_1.h5\n",
      "Epoch 4/50\n",
      "625/625 [==============================] - 375s 600ms/step - loss: 1.8011 - acc: 0.6842 - val_loss: 1.3861 - val_acc: 0.7760\n",
      "\n",
      "Epoch 00004: val_loss improved from 1.76075 to 1.38614, saving model to model_1.h5\n",
      "Epoch 5/50\n",
      "625/625 [==============================] - 375s 600ms/step - loss: 1.4671 - acc: 0.7374 - val_loss: 1.1583 - val_acc: 0.8154\n",
      "\n",
      "Epoch 00005: val_loss improved from 1.38614 to 1.15834, saving model to model_1.h5\n",
      "Epoch 6/50\n",
      "625/625 [==============================] - 375s 601ms/step - loss: 1.2444 - acc: 0.7731 - val_loss: 1.0163 - val_acc: 0.8409\n",
      "\n",
      "Epoch 00006: val_loss improved from 1.15834 to 1.01629, saving model to model_1.h5\n",
      "Epoch 7/50\n",
      "625/625 [==============================] - 375s 600ms/step - loss: 1.0861 - acc: 0.7984 - val_loss: 0.9157 - val_acc: 0.8591\n",
      "\n",
      "Epoch 00007: val_loss improved from 1.01629 to 0.91575, saving model to model_1.h5\n",
      "Epoch 8/50\n",
      "625/625 [==============================] - 376s 602ms/step - loss: 0.9691 - acc: 0.8174 - val_loss: 0.8529 - val_acc: 0.8705\n",
      "\n",
      "Epoch 00008: val_loss improved from 0.91575 to 0.85292, saving model to model_1.h5\n",
      "Epoch 9/50\n",
      "625/625 [==============================] - 376s 602ms/step - loss: 0.8775 - acc: 0.8318 - val_loss: 0.8032 - val_acc: 0.8797\n",
      "\n",
      "Epoch 00009: val_loss improved from 0.85292 to 0.80321, saving model to model_1.h5\n",
      "Epoch 10/50\n",
      "625/625 [==============================] - 380s 608ms/step - loss: 0.8062 - acc: 0.8436 - val_loss: 0.7737 - val_acc: 0.8846\n",
      "\n",
      "Epoch 00010: val_loss improved from 0.80321 to 0.77367, saving model to model_1.h5\n",
      "Epoch 11/50\n",
      "625/625 [==============================] - 380s 607ms/step - loss: 0.7479 - acc: 0.8533 - val_loss: 0.7480 - val_acc: 0.8895\n",
      "\n",
      "Epoch 00011: val_loss improved from 0.77367 to 0.74802, saving model to model_1.h5\n",
      "Epoch 12/50\n",
      "625/625 [==============================] - 379s 607ms/step - loss: 0.7001 - acc: 0.8614 - val_loss: 0.7369 - val_acc: 0.8930\n",
      "\n",
      "Epoch 00012: val_loss improved from 0.74802 to 0.73693, saving model to model_1.h5\n",
      "Epoch 13/50\n",
      "625/625 [==============================] - 378s 604ms/step - loss: 0.6564 - acc: 0.8680 - val_loss: 0.7120 - val_acc: 0.8962\n",
      "\n",
      "Epoch 00013: val_loss improved from 0.73693 to 0.71201, saving model to model_1.h5\n",
      "Epoch 14/50\n",
      "625/625 [==============================] - 377s 604ms/step - loss: 0.6182 - acc: 0.8743 - val_loss: 0.7018 - val_acc: 0.8999\n",
      "\n",
      "Epoch 00014: val_loss improved from 0.71201 to 0.70182, saving model to model_1.h5\n",
      "Epoch 15/50\n",
      "625/625 [==============================] - 377s 603ms/step - loss: 0.5867 - acc: 0.8797 - val_loss: 0.6922 - val_acc: 0.9024\n",
      "\n",
      "Epoch 00015: val_loss improved from 0.70182 to 0.69224, saving model to model_1.h5\n",
      "Epoch 16/50\n",
      "625/625 [==============================] - 378s 604ms/step - loss: 0.5572 - acc: 0.8842 - val_loss: 0.6884 - val_acc: 0.9047\n",
      "\n",
      "Epoch 00016: val_loss improved from 0.69224 to 0.68838, saving model to model_1.h5\n",
      "Epoch 17/50\n",
      "625/625 [==============================] - 377s 604ms/step - loss: 0.5301 - acc: 0.8891 - val_loss: 0.6854 - val_acc: 0.9058\n",
      "\n",
      "Epoch 00017: val_loss improved from 0.68838 to 0.68537, saving model to model_1.h5\n",
      "Epoch 18/50\n",
      "625/625 [==============================] - 377s 603ms/step - loss: 0.5060 - acc: 0.8929 - val_loss: 0.6781 - val_acc: 0.9071\n",
      "\n",
      "Epoch 00018: val_loss improved from 0.68537 to 0.67805, saving model to model_1.h5\n",
      "Epoch 19/50\n",
      "625/625 [==============================] - 376s 601ms/step - loss: 0.4819 - acc: 0.8968 - val_loss: 0.6692 - val_acc: 0.9089\n",
      "\n",
      "Epoch 00019: val_loss improved from 0.67805 to 0.66919, saving model to model_1.h5\n",
      "Epoch 20/50\n",
      "625/625 [==============================] - 376s 602ms/step - loss: 0.4635 - acc: 0.9000 - val_loss: 0.6770 - val_acc: 0.9093\n",
      "\n",
      "Epoch 00020: val_loss did not improve from 0.66919\n",
      "\n",
      "Epoch 00020: ReduceLROnPlateau reducing learning rate to 0.00020000000949949026.\n",
      "Epoch 21/50\n",
      "625/625 [==============================] - 376s 602ms/step - loss: 0.3659 - acc: 0.9217 - val_loss: 0.6399 - val_acc: 0.9184\n",
      "\n",
      "Epoch 00021: val_loss improved from 0.66919 to 0.63989, saving model to model_1.h5\n",
      "Epoch 22/50\n",
      "625/625 [==============================] - 378s 604ms/step - loss: 0.3196 - acc: 0.9316 - val_loss: 0.6465 - val_acc: 0.9189\n",
      "\n",
      "Epoch 00022: val_loss did not improve from 0.63989\n",
      "\n",
      "Epoch 00022: ReduceLROnPlateau reducing learning rate to 4.0000001899898055e-05.\n",
      "Epoch 23/50\n",
      "625/625 [==============================] - 377s 603ms/step - loss: 0.2893 - acc: 0.9380 - val_loss: 0.6404 - val_acc: 0.9205\n",
      "\n",
      "Epoch 00023: val_loss did not improve from 0.63989\n",
      "Restoring model weights from the end of the best epoch\n",
      "\n",
      "Epoch 00023: ReduceLROnPlateau reducing learning rate to 8.000000525498762e-06.\n",
      "Epoch 00023: early stopping\n"
     ]
    }
   ],
   "source": [
    "#Then fitting the data to the model\n",
    "'''\n",
    "generator: A generator or an instance of Sequence (keras.utils.Sequence) object in order to avoid \n",
    "duplicate data when using multiprocessing. The output of the generator must be either a tuple (inputs, targets)\n",
    "a tuple (inputs, targets, sample_weights).\n",
    "This tuple (a single output of the generator) makes a single batch. \n",
    "Therefore, all arrays in this tuple must have the same length (equal to the size of this batch). \n",
    "Different batches may have different sizes. \n",
    "For example, the last batch of the epoch is commonly smaller than the others, if the size of the dataset is not divisible by the batch size. \n",
    "The generator is expected to loop over its data indefinitely. An epoch finishes when steps_per_epoch batches have been seen by the model.\n",
    "'''\n",
    "history1 = model.fit_generator(generator = generate_batch(x_train, y_train, batch_size = batch_size),\n",
    "                    steps_per_epoch = train_samples//batch_size,\n",
    "                    epochs=50,\n",
    "                    validation_data = generate_batch(x_test, y_test, batch_size = batch_size),\n",
    "                    validation_steps = val_samples//batch_size,callbacks=callbacks_1)"
   ]
  },
  {
   "cell_type": "code",
   "execution_count": 0,
   "metadata": {
    "colab": {},
    "colab_type": "code",
    "collapsed": true,
    "id": "Qb7PRzeEK6MI"
   },
   "outputs": [],
   "source": []
  },
  {
   "cell_type": "code",
   "execution_count": 0,
   "metadata": {
    "colab": {
     "base_uri": "https://localhost:8080/",
     "height": 34
    },
    "colab_type": "code",
    "id": "fY3IX9UeT6K5",
    "outputId": "6e2ebf73-20a9-4ffa-94ca-4e37714801fe"
   },
   "outputs": [
    {
     "name": "stdout",
     "output_type": "stream",
     "text": [
      "dict_keys(['val_loss', 'val_acc', 'loss', 'acc'])\n"
     ]
    }
   ],
   "source": [
    "print(model.history.history.keys())"
   ]
  },
  {
   "cell_type": "code",
   "execution_count": 26,
   "metadata": {
    "colab": {
     "base_uri": "https://localhost:8080/",
     "height": 269
    },
    "colab_type": "code",
    "id": "R6r2Vr2XT5-M",
    "outputId": "c347a00d-a8d6-457f-dd08-8b999f22c094"
   },
   "outputs": [
    {
     "data": {
      "image/png": "[encoded data removed]",
      "text/plain": [
       "<Figure size 432x288 with 1 Axes>"
      ]
     },
     "metadata": {
      "tags": []
     },
     "output_type": "display_data"
    }
   ],
   "source": [
    "#Got train loss and test loss around 0.6 no overfitting\n",
    "plt.plot(history1.history['loss'], 'r')\n",
    "plt.plot(history1.history['val_loss'], 'b')\n",
    "plt.legend({'Train Loss': 'r', 'Test Loss':'b'})\n",
    "plt.show()"
   ]
  },
  {
   "cell_type": "code",
   "execution_count": 0,
   "metadata": {
    "colab": {
     "base_uri": "https://localhost:8080/",
     "height": 865
    },
    "colab_type": "code",
    "id": "7O5IaI9OTTPf",
    "outputId": "99266df1-0d6e-4e4b-a329-ec17b5e363fa"
   },
   "outputs": [
    {
     "data": {
      "image/png": "[encoded data removed]",
      "text/plain": [
       "<IPython.core.display.Image object>"
      ]
     },
     "execution_count": 24,
     "metadata": {
      "tags": []
     },
     "output_type": "execute_result"
    }
   ],
   "source": [
    "#Lets see the model architecture\n",
    "tf.keras.utils.plot_model(\n",
    "model,to_file='model.png',\n",
    "show_shapes=True,show_layer_names=True,\n",
    "rankdir='TB',expand_nested=False,\n",
    "dpi=96\n",
    ")"
   ]
  },
  {
   "cell_type": "code",
   "execution_count": 0,
   "metadata": {
    "colab": {},
    "colab_type": "code",
    "collapsed": true,
    "id": "tbQP3NCGXVNk"
   },
   "outputs": [],
   "source": [
    "'''\n",
    "# Next: inference mode .\n",
    "# 1) encode input and retrieve initial decoder state\n",
    "# 2) run one step of decoder with this initial state\n",
    "# and a \"start of sequence\" token as target.\n",
    "# Output will be the next target token\n",
    "# 3) Repeat with the current target token and current states\n",
    "'''\n",
    "# Encode the input sequence to get the \"thought vectors\"\n",
    "encoder_model = Model(encoder_inputs, encoder_states)\n",
    "\n",
    "# Decoder setup\n",
    "# Below tensors will hold the states of the previous time step\n",
    "decoder_state_input_h = Input(shape=(latent_dim,))\n",
    "decoder_state_input_c = Input(shape=(latent_dim,))\n",
    "decoder_states_inputs = [decoder_state_input_h, decoder_state_input_c]\n",
    "\n",
    "dec_emb2= dec_emb_layer(decoder_inputs) # Get the embeddings of the decoder sequence\n",
    "\n",
    "# To predict the next word in the sequence, set the initial states to the states from the previous time step\n",
    "decoder_outputs2, state_h2, state_c2 = decoder_lstm(dec_emb2, initial_state=decoder_states_inputs)\n",
    "decoder_states2 = [state_h2, state_c2]\n",
    "decoder_outputs2=dense1(decoder_outputs2)\n",
    "decoder_outputs2 = decoder_dense(decoder_outputs2) # A dense softmax layer to generate prob dist. over the target vocabulary\n",
    "\n",
    "# Final decoder model\n",
    "decoder_model = Model(\n",
    "    [decoder_inputs] + decoder_states_inputs,\n",
    "    [decoder_outputs2] + decoder_states2)"
   ]
  },
  {
   "cell_type": "code",
   "execution_count": 0,
   "metadata": {
    "colab": {},
    "colab_type": "code",
    "collapsed": true,
    "id": "ZifWjgpu0SHm"
   },
   "outputs": [],
   "source": [
    "def decode_sequence(input_seq):\n",
    "    # Encode the input as state vectors.\n",
    "    states_value = encoder_model.predict(input_seq)\n",
    "    # Generate empty target sequence of length 1.\n",
    "    target_seq = np.zeros((1,1))\n",
    "    # Populate the first character of target sequence with the start character.\n",
    "    target_seq[0, 0] = target_token_index['START_']\n",
    "\n",
    "    # Sampling loop for a batch of sequences\n",
    "    # (to simplify, here we assume a batch of size 1).\n",
    "    stop_condition = False\n",
    "    decoded_sentence = ''\n",
    "    while not stop_condition:\n",
    "        output_tokens, h, c = decoder_model.predict([target_seq] + states_value)\n",
    "\n",
    "        # Sample a token\n",
    "        sampled_token_index = np.argmax(output_tokens[0, -1, :])\n",
    "        sampled_char = reverse_target_char_index[sampled_token_index]\n",
    "        decoded_sentence += ' '+sampled_char\n",
    "\n",
    "        # Exit condition: either hit max length\n",
    "        # or find stop character.\n",
    "        if (sampled_char == '_END' or\n",
    "           len(decoded_sentence) > 50):\n",
    "            stop_condition = True\n",
    "\n",
    "        # Update the target sequence (of length 1).\n",
    "        target_seq = np.zeros((1,1))\n",
    "        target_seq[0, 0] = sampled_token_index\n",
    "\n",
    "        # Update states\n",
    "        states_value = [h, c]\n",
    "\n",
    "    return decoded_sentence"
   ]
  },
  {
   "cell_type": "code",
   "execution_count": 0,
   "metadata": {
    "colab": {},
    "colab_type": "code",
    "collapsed": true,
    "id": "izVTct82Q_uk"
   },
   "outputs": [],
   "source": []
  },
  {
   "cell_type": "code",
   "execution_count": 0,
   "metadata": {
    "colab": {},
    "colab_type": "code",
    "collapsed": true,
    "id": "yNr6CbAzQ4mX"
   },
   "outputs": [],
   "source": []
  },
  {
   "cell_type": "code",
   "execution_count": 0,
   "metadata": {
    "colab": {},
    "colab_type": "code",
    "collapsed": true,
    "id": "5Wlrtslw0WJU"
   },
   "outputs": [],
   "source": [
    "#Lets see how it behaves in train data\n",
    "train_gen = generate_batch(x_train, y_train, batch_size = 1)\n",
    "k=-1"
   ]
  },
  {
   "cell_type": "code",
   "execution_count": 0,
   "metadata": {
    "colab": {},
    "colab_type": "code",
    "collapsed": true,
    "id": "nnvYHZ47v-qA"
   },
   "outputs": [],
   "source": [
    "k+=1\n",
    "(input_seq, actual_output), _ = next(train_gen)"
   ]
  },
  {
   "cell_type": "code",
   "execution_count": 198,
   "metadata": {
    "colab": {
     "base_uri": "https://localhost:8080/",
     "height": 69
    },
    "colab_type": "code",
    "id": "SKFeA7EjXBYn",
    "outputId": "bed8771a-07bc-4be7-99dc-f4ac64c36590"
   },
   "outputs": [
    {
     "name": "stdout",
     "output_type": "stream",
     "text": [
      "Input English sentence: i thought you said that tom was married .\n",
      "Actual  Translation:  i thought you said that tom was married . \n",
      "Predicted Translation:  i thought you said that tom was married . \n"
     ]
    }
   ],
   "source": [
    "#Example-1\n",
    "decoded_sentence = decode_sequence(input_seq)\n",
    "print('Input English sentence:', x_train[k:k+1].values[0])\n",
    "print('Actual  Translation:',y_train[k:k+1].values[0][6:-4])\n",
    "print('Predicted Translation:', decoded_sentence[:-4])"
   ]
  },
  {
   "cell_type": "code",
   "execution_count": 200,
   "metadata": {
    "colab": {
     "base_uri": "https://localhost:8080/",
     "height": 69
    },
    "colab_type": "code",
    "id": "YxB0PbW4XdBb",
    "outputId": "ac19e6a7-ee42-4729-85c7-44284ee58754"
   },
   "outputs": [
    {
     "name": "stdout",
     "output_type": "stream",
     "text": [
      "Input English sentence: he told me that he would do it .\n",
      "Actual  Translation:  he told me that he would do it . \n",
      "Predicted Translation:  he told me that he would do it . \n"
     ]
    }
   ],
   "source": [
    "#Example-2\n",
    "decoded_sentence = decode_sequence(input_seq)\n",
    "print('Input English sentence:', x_train[k:k+1].values[0])\n",
    "print('Actual  Translation:',y_train[k:k+1].values[0][6:-4])\n",
    "print('Predicted Translation:', decoded_sentence[:-4])"
   ]
  },
  {
   "cell_type": "code",
   "execution_count": 202,
   "metadata": {
    "colab": {
     "base_uri": "https://localhost:8080/",
     "height": 69
    },
    "colab_type": "code",
    "id": "_p4U5kNXXc48",
    "outputId": "e9bafa32-b53f-440a-a7c7-f48f88826d3d"
   },
   "outputs": [
    {
     "name": "stdout",
     "output_type": "stream",
     "text": [
      "Input English sentence: i heard them sobbing .\n",
      "Actual  Translation:  i heard them sobbing . \n",
      "Predicted Translation:  i heard them hiding . \n"
     ]
    }
   ],
   "source": [
    "#Example-3\n",
    "decoded_sentence = decode_sequence(input_seq)\n",
    "print('Input English sentence:', x_train[k:k+1].values[0])\n",
    "print('Actual  Translation:',y_train[k:k+1].values[0][6:-4])\n",
    "print('Predicted Translation:', decoded_sentence[:-4])"
   ]
  },
  {
   "cell_type": "code",
   "execution_count": 0,
   "metadata": {
    "colab": {},
    "colab_type": "code",
    "collapsed": true,
    "id": "0sEJEnSvXoZY"
   },
   "outputs": [],
   "source": [
    "###Preety good it predicted all the sentences correctly."
   ]
  },
  {
   "cell_type": "code",
   "execution_count": 0,
   "metadata": {
    "colab": {},
    "colab_type": "code",
    "collapsed": true,
    "id": "4dYHftsNy7-w"
   },
   "outputs": [],
   "source": [
    "#lets see how it does in unseen data\n",
    "data_create = [['frog came out of the water .', 'a frog came out of the water .'], ['at last , day has arrived for us to act .','at last , the day has arrived for us to act .'], ['water from this river runs into the sea .', 'the water from this river runs into the sea .']\n",
    "              ,['i am taller then you .','i am taller than you']] "
   ]
  },
  {
   "cell_type": "code",
   "execution_count": 0,
   "metadata": {
    "colab": {},
    "colab_type": "code",
    "collapsed": true,
    "id": "tRDc5omtyub0"
   },
   "outputs": [],
   "source": [
    "testing_model = pd.DataFrame(columns=['input','output'],data=data_create)"
   ]
  },
  {
   "cell_type": "code",
   "execution_count": 0,
   "metadata": {
    "colab": {},
    "colab_type": "code",
    "collapsed": true,
    "id": "nsRTFPdnOPrH"
   },
   "outputs": [],
   "source": [
    "x_model_testing = testing_model['input']\n",
    "y_model_testing = testing_model['output']"
   ]
  },
  {
   "cell_type": "code",
   "execution_count": 0,
   "metadata": {
    "colab": {},
    "colab_type": "code",
    "collapsed": true,
    "id": "66eYsVskP0SI"
   },
   "outputs": [],
   "source": [
    "test_gen = generate_batch(x_model_testing, y_model_testing, batch_size = 1)\n",
    "k=-1"
   ]
  },
  {
   "cell_type": "code",
   "execution_count": 0,
   "metadata": {
    "colab": {},
    "colab_type": "code",
    "collapsed": true,
    "id": "YRnt0jXXP0FH"
   },
   "outputs": [],
   "source": [
    "k+=1\n",
    "(input_seq, actual_output), _ = next(test_gen)"
   ]
  },
  {
   "cell_type": "code",
   "execution_count": 128,
   "metadata": {
    "colab": {
     "base_uri": "https://localhost:8080/",
     "height": 69
    },
    "colab_type": "code",
    "id": "G1iiyoioSc0e",
    "outputId": "01b0038e-4bb0-41f7-db56-4feafe13adc1"
   },
   "outputs": [
    {
     "name": "stdout",
     "output_type": "stream",
     "text": [
      "Input English sentence: i am taller then you .\n",
      "Actual  Translation: i am taller than you\n",
      "Predicted Translation:  i am taller than you . \n"
     ]
    }
   ],
   "source": [
    "#One example of predicting correctly then with than\n",
    "decoded_sentence = decode_sequence(input_seq)\n",
    "print('Input English sentence:', x_model_testing[k:k+1].values[0])\n",
    "print('Actual  Translation:', y_model_testing[k:k+1].values[0])\n",
    "print('Predicted Translation:', decoded_sentence[:-4])"
   ]
  },
  {
   "cell_type": "code",
   "execution_count": 85,
   "metadata": {
    "colab": {
     "base_uri": "https://localhost:8080/",
     "height": 69
    },
    "colab_type": "code",
    "id": "J7YcC7YaP26N",
    "outputId": "a5e9895c-a5c6-4d82-de43-a548ce678782"
   },
   "outputs": [
    {
     "name": "stdout",
     "output_type": "stream",
     "text": [
      "Input English sentence: frog came out of the water .\n",
      "Actual  Translation: a frog came out of the water .\n",
      "Predicted Translation:  a frog came out of the water . \n"
     ]
    }
   ],
   "source": [
    "#One example predicting correctly where \"a\" should be\n",
    "decoded_sentence = decode_sequence(input_seq)\n",
    "print('Input English sentence:', x_model_testing[k:k+1].values[0])\n",
    "print('Actual  Translation:', y_model_testing[k:k+1].values[0])\n",
    "print('Predicted Translation:', decoded_sentence[:-4])"
   ]
  },
  {
   "cell_type": "code",
   "execution_count": 87,
   "metadata": {
    "colab": {
     "base_uri": "https://localhost:8080/",
     "height": 69
    },
    "colab_type": "code",
    "id": "GYb-Ze6hQR2I",
    "outputId": "88afe0d4-1583-458c-efa3-57494d829464"
   },
   "outputs": [
    {
     "name": "stdout",
     "output_type": "stream",
     "text": [
      "Input English sentence: at last , day has arrived for us to act .\n",
      "Actual  Translation: at last , the day has arrived for us to act .\n",
      "Predicted Translation:  at last , the day has arrived for us to act . \n"
     ]
    }
   ],
   "source": [
    "#One example predicitng correctly where the \"the\" should be\n",
    "decoded_sentence = decode_sequence(input_seq)\n",
    "print('Input English sentence:', x_model_testing[k:k+1].values[0])\n",
    "print('Actual  Translation:', y_model_testing[k:k+1].values[0])\n",
    "print('Predicted Translation:', decoded_sentence[:-4])"
   ]
  },
  {
   "cell_type": "code",
   "execution_count": 0,
   "metadata": {
    "colab": {},
    "colab_type": "code",
    "collapsed": true,
    "id": "7qFgrGpjQRzu"
   },
   "outputs": [],
   "source": [
    "k+=1\n",
    "(input_seq, actual_output), _ = next(test_gen)"
   ]
  },
  {
   "cell_type": "code",
   "execution_count": 163,
   "metadata": {
    "colab": {
     "base_uri": "https://localhost:8080/",
     "height": 69
    },
    "colab_type": "code",
    "id": "0CCwwK7fQRsM",
    "outputId": "9be98666-4940-471c-e21c-45cbcf1d41a1"
   },
   "outputs": [
    {
     "name": "stdout",
     "output_type": "stream",
     "text": [
      "Input English sentence: their you go .\n",
      "Actual  Translation: there you go .\n",
      "Predicted Translation:  their you go . \n"
     ]
    }
   ],
   "source": [
    "#Can not predict their with there,Because small number of errors are introduced in their \n",
    "decoded_sentence = decode_sequence(input_seq)\n",
    "print('Input English sentence:', x_model_testing[k:k+1].values[0])\n",
    "print('Actual  Translation:', y_model_testing[k:k+1].values[0])\n",
    "print('Predicted Translation:', decoded_sentence[:-4])"
   ]
  },
  {
   "cell_type": "code",
   "execution_count": 193,
   "metadata": {
    "colab": {
     "base_uri": "https://localhost:8080/",
     "height": 69
    },
    "colab_type": "code",
    "id": "PMI7ZQinF_HA",
    "outputId": "df7ac3d4-33dc-4e14-e247-f859d5747e7c"
   },
   "outputs": [
    {
     "name": "stdout",
     "output_type": "stream",
     "text": [
      "Input English sentence: there is been  lawyer in the family for generations .\n",
      "Actual  Translation:  there is been a lawyer in the family for generations . \n",
      "Predicted Translation:  there is been a lawyer in the family for generation\n"
     ]
    }
   ],
   "source": [
    "#Lets see how it works in long sentences\n",
    "decoded_sentence = decode_sequence(input_seq)\n",
    "print('Input English sentence:', x_train[k:k+1].values[0])\n",
    "print('Actual  Translation:', y_train[k:k+1].values[0][6:-4])\n",
    "print('Predicted Translation:', decoded_sentence[:-1])\n",
    "#It actually predict the whole sentence great!!"
   ]
  },
  {
   "cell_type": "code",
   "execution_count": 0,
   "metadata": {
    "colab": {},
    "colab_type": "code",
    "collapsed": true,
    "id": "ekt9nHaLP2wG"
   },
   "outputs": [],
   "source": [
    "###Lets now save the models"
   ]
  },
  {
   "cell_type": "code",
   "execution_count": 0,
   "metadata": {
    "colab": {},
    "colab_type": "code",
    "collapsed": true,
    "id": "VhO5zLTn2JBm"
   },
   "outputs": [],
   "source": [
    "from pydrive.auth import GoogleAuth\n",
    "from pydrive.drive import GoogleDrive\n",
    "from google.colab import auth\n",
    "from oauth2client.client import GoogleCredentials\n",
    "\n",
    "# 1. Authenticate and create the PyDrive client.\n",
    "auth.authenticate_user()\n",
    "gauth = GoogleAuth()\n",
    "gauth.credentials = GoogleCredentials.get_application_default()\n",
    "drive = GoogleDrive(gauth)\n",
    "\n",
    "# 2. Save Keras Model or weights on google drive\n",
    "\n",
    "# create on Colab directory\n",
    "model.save('model.h5')    \n",
    "model_file = drive.CreateFile({'title' : 'model.h5'})\n",
    "model_file.SetContentFile('model.h5')\n",
    "model_file.Upload()\n",
    "\n",
    "# download to google drive\n",
    "drive.CreateFile({'id': model_file.get('id')})"
   ]
  },
  {
   "cell_type": "code",
   "execution_count": 0,
   "metadata": {
    "colab": {
     "base_uri": "https://localhost:8080/",
     "height": 351
    },
    "colab_type": "code",
    "id": "jCjuxId-3Hn2",
    "outputId": "d6b12a65-f19b-49c7-9123-672ad03c7f40"
   },
   "outputs": [
    {
     "name": "stdout",
     "output_type": "stream",
     "text": [
      "WARNING:tensorflow:Large dropout rate: 0.6 (>0.5). In TensorFlow 2.x, dropout() uses dropout rate instead of keep_prob. Please ensure that this is intended.\n",
      "WARNING:tensorflow:Large dropout rate: 0.6 (>0.5). In TensorFlow 2.x, dropout() uses dropout rate instead of keep_prob. Please ensure that this is intended.\n",
      "WARNING:tensorflow:From /usr/local/lib/python3.6/dist-packages/keras/backend/tensorflow_backend.py:190: The name tf.get_default_session is deprecated. Please use tf.compat.v1.get_default_session instead.\n",
      "\n",
      "WARNING:tensorflow:From /usr/local/lib/python3.6/dist-packages/keras/backend/tensorflow_backend.py:197: The name tf.ConfigProto is deprecated. Please use tf.compat.v1.ConfigProto instead.\n",
      "\n",
      "WARNING:tensorflow:From /usr/local/lib/python3.6/dist-packages/keras/backend/tensorflow_backend.py:203: The name tf.Session is deprecated. Please use tf.compat.v1.Session instead.\n",
      "\n",
      "WARNING:tensorflow:From /usr/local/lib/python3.6/dist-packages/keras/backend/tensorflow_backend.py:207: The name tf.global_variables is deprecated. Please use tf.compat.v1.global_variables instead.\n",
      "\n",
      "WARNING:tensorflow:From /usr/local/lib/python3.6/dist-packages/keras/backend/tensorflow_backend.py:216: The name tf.is_variable_initialized is deprecated. Please use tf.compat.v1.is_variable_initialized instead.\n",
      "\n",
      "WARNING:tensorflow:From /usr/local/lib/python3.6/dist-packages/keras/backend/tensorflow_backend.py:223: The name tf.variables_initializer is deprecated. Please use tf.compat.v1.variables_initializer instead.\n",
      "\n",
      "WARNING:tensorflow:From /usr/local/lib/python3.6/dist-packages/keras/backend/tensorflow_backend.py:1033: The name tf.assign_add is deprecated. Please use tf.compat.v1.assign_add instead.\n",
      "\n",
      "WARNING:tensorflow:From /usr/local/lib/python3.6/dist-packages/keras/backend/tensorflow_backend.py:1020: The name tf.assign is deprecated. Please use tf.compat.v1.assign instead.\n",
      "\n"
     ]
    }
   ],
   "source": [
    "last_weight_file = drive.CreateFile({'id': '1pEj1V_A3aeBp6sbYUIuWf523cp0RekTJ'}) \n",
    "last_weight_file.GetContentFile('model.h5')\n",
    "model=load_model('model.h5')"
   ]
  },
  {
   "cell_type": "markdown",
   "metadata": {
    "colab_type": "text",
    "id": "3OlZVaKPBE2w"
   },
   "source": [
    "**Summary**"
   ]
  },
  {
   "cell_type": "markdown",
   "metadata": {
    "colab_type": "text",
    "id": "iU4olotQBJLL"
   },
   "source": [
    "\n",
    "\n",
    "*   Done the cleaning of data extensively.\n",
    "*   Introduced some errors in the input data.\n",
    "*   Then applying seq2seq model.\n",
    "*   Got a very good logloss in both train and test data which is 0.6\n",
    "*   As explained above it corrects most of the sentences.\n",
    "\n",
    "\n",
    "\n"
   ]
  },
  {
   "cell_type": "markdown",
   "metadata": {
    "colab": {},
    "colab_type": "code",
    "collapsed": true,
    "id": "E2SrW4fM3rvm"
   },
   "source": [
    "#### References"
   ]
  },
  {
   "cell_type": "markdown",
   "metadata": {
    "colab": {},
    "colab_type": "code",
    "collapsed": true,
    "id": "JzrbIQqMD6o5"
   },
   "source": [
    "- https://keras.io/examples/lstm_seq2seq/\n",
    "- https://github.com/atpaino/deep-text-corrector\n",
    "- https://medium.com/@praneethbedapudi/deepcorrection-3-spell-correction-and-simple-grammar-correction-d033a52bc11d\n",
    "- https://paperswithcode.com/task/grammatical-error-correction"
   ]
  },
  {
   "cell_type": "code",
   "execution_count": 0,
   "metadata": {
    "colab": {},
    "colab_type": "code",
    "collapsed": true,
    "id": "LWKVC1pf1rcg"
   },
   "outputs": [],
   "source": []
  }
 ],
 "metadata": {
  "accelerator": "GPU",
  "colab": {
   "collapsed_sections": [],
   "machine_shape": "hm",
   "name": "Deep Text generator.ipynb",
   "provenance": []
  },
  "kernelspec": {
   "display_name": "Python 3",
   "language": "python",
   "name": "python3"
  },
  "language_info": {
   "codemirror_mode": {
    "name": "ipython",
    "version": 3
   },
   "file_extension": ".py",
   "mimetype": "text/x-python",
   "name": "python",
   "nbconvert_exporter": "python",
   "pygments_lexer": "ipython3",
   "version": "3.6.3"
  }
 },
 "nbformat": 4,
 "nbformat_minor": 1
}
